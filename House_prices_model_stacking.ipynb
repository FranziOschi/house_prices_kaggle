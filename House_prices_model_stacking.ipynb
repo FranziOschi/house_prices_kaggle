{
 "metadata": {
  "kernelspec": {
   "display_name": "Python 2",
   "language": "python",
   "name": "python2"
  },
  "language_info": {
   "codemirror_mode": {
    "name": "ipython",
    "version": 2
   },
   "file_extension": ".py",
   "mimetype": "text/x-python",
   "name": "python",
   "nbconvert_exporter": "python",
   "pygments_lexer": "ipython2",
   "version": "2.7.14"
  },
  "name": "",
  "signature": "sha256:16386c6f5ad5a469fc91af68176d4d4b907d5297cdb9430b5082536877068800"
 },
 "nbformat": 3,
 "nbformat_minor": 0,
 "worksheets": [
  {
   "cells": [
    {
     "cell_type": "code",
     "collapsed": false,
     "input": [
      "import pandas as pd\n",
      "\n",
      "from mlxtend.regressor import StackingRegressor, StackingCVRegressor\n",
      "from sklearn.tree import DecisionTreeRegressor\n",
      "from sklearn.metrics import mean_absolute_error, mean_squared_error\n",
      "from sklearn.linear_model import ElasticNet, Lasso,  BayesianRidge, LassoLarsIC, LogisticRegression, LinearRegression, SGDRegressor\n",
      "from sklearn.model_selection import train_test_split, KFold, cross_val_score\n",
      "from sklearn.ensemble import RandomForestRegressor, GradientBoostingRegressor\n",
      "from sklearn.preprocessing import Imputer, StandardScaler\n",
      "from sklearn.kernel_ridge import KernelRidge\n",
      "from sklearn.pipeline import make_pipeline\n",
      "from sklearn.preprocessing import RobustScaler\n",
      "from sklearn.svm import SVR\n",
      "import lightgbm as lgb\n",
      "\n",
      "from xgboost import XGBRegressor\n",
      "\n",
      "%matplotlib inline\n",
      "import matplotlib.pyplot as plt\n",
      "\n",
      "import numpy as np\n",
      "\n",
      "from DataFrameImputer import DataFrameImputer\n",
      "from AveragingModels import AveragingModels"
     ],
     "language": "python",
     "metadata": {},
     "outputs": [],
     "prompt_number": 1
    },
    {
     "cell_type": "heading",
     "level": 4,
     "metadata": {},
     "source": [
      "1. Load data"
     ]
    },
    {
     "cell_type": "code",
     "collapsed": false,
     "input": [
      "# Read the data\n",
      "train = pd.read_csv('train.csv')\n",
      "test = pd.read_csv('test.csv')"
     ],
     "language": "python",
     "metadata": {},
     "outputs": [],
     "prompt_number": 2
    },
    {
     "cell_type": "code",
     "collapsed": false,
     "input": [
      "# preprocessing\n",
      "# Drop houses where the target is missing\n",
      "train.dropna(axis=0, subset=['SalePrice'], inplace=True)\n",
      "\n",
      "# transformation of target variable\n",
      "train[\"SalePrice\"] = np.log1p(train[\"SalePrice\"])\n",
      "\n",
      "# drop target data in train data\n",
      "candidate_train_predictors = train.drop(['Id', 'SalePrice'], axis=1)\n",
      "candidate_test_predictors = test.drop(['Id'], axis=1)"
     ],
     "language": "python",
     "metadata": {},
     "outputs": [],
     "prompt_number": 3
    },
    {
     "cell_type": "heading",
     "level": 4,
     "metadata": {},
     "source": [
      "2. NaN handling - Imputing"
     ]
    },
    {
     "cell_type": "code",
     "collapsed": false,
     "input": [
      "# Imputing\n",
      "train_imputed = DataFrameImputer().fit_transform(candidate_train_predictors)\n",
      "test_imputed = DataFrameImputer().fit_transform(candidate_test_predictors)"
     ],
     "language": "python",
     "metadata": {},
     "outputs": [],
     "prompt_number": 4
    },
    {
     "cell_type": "heading",
     "level": 4,
     "metadata": {},
     "source": [
      "3. One-hot encoding"
     ]
    },
    {
     "cell_type": "code",
     "collapsed": false,
     "input": [
      "one_hot_encoded_training_predictors = pd.get_dummies(train_imputed)\n",
      "one_hot_encoded_test_predictors = pd.get_dummies(test_imputed)"
     ],
     "language": "python",
     "metadata": {},
     "outputs": [],
     "prompt_number": 5
    },
    {
     "cell_type": "code",
     "collapsed": false,
     "input": [
      "col_diff = list(set(one_hot_encoded_training_predictors) - set(one_hot_encoded_test_predictors.columns))"
     ],
     "language": "python",
     "metadata": {},
     "outputs": [],
     "prompt_number": 6
    },
    {
     "cell_type": "code",
     "collapsed": false,
     "input": [
      "final_train_cat, final_test_cat = one_hot_encoded_training_predictors.align(one_hot_encoded_test_predictors,\n",
      "                                                                    join='left', \n",
      "                                                                    axis=1)"
     ],
     "language": "python",
     "metadata": {},
     "outputs": [],
     "prompt_number": 7
    },
    {
     "cell_type": "code",
     "collapsed": false,
     "input": [
      "#train_new = final_train_cat.drop(col_diff, axis = 1)\n",
      "#test_new = final_test_cat.drop(col_diff, axis = 1)\n",
      "\n",
      "train_new = final_train_cat\n",
      "\n",
      "final_test_cat[col_diff] = 0\n",
      "test_new = final_test_cat"
     ],
     "language": "python",
     "metadata": {},
     "outputs": [],
     "prompt_number": 8
    },
    {
     "cell_type": "heading",
     "level": 4,
     "metadata": {},
     "source": [
      "4. Split into training and validation data"
     ]
    },
    {
     "cell_type": "code",
     "collapsed": false,
     "input": [
      "# pull data into target (y) and predictors (X)\n",
      "y = train.SalePrice\n",
      "\n",
      "# Create training predictors data\n",
      "#X = numeric_predictors\n",
      "X = train_new"
     ],
     "language": "python",
     "metadata": {},
     "outputs": [],
     "prompt_number": 9
    },
    {
     "cell_type": "code",
     "collapsed": false,
     "input": [
      "# split into train and validation data\n",
      "train_X, val_X, train_y, val_y = train_test_split(X, y,random_state = 0)"
     ],
     "language": "python",
     "metadata": {},
     "outputs": [],
     "prompt_number": 10
    },
    {
     "cell_type": "heading",
     "level": 4,
     "metadata": {},
     "source": [
      "5. Model"
     ]
    },
    {
     "cell_type": "code",
     "collapsed": false,
     "input": [
      "def rmsle(y, y_pred):\n",
      "    return np.sqrt(mean_squared_error(y, y_pred))"
     ],
     "language": "python",
     "metadata": {},
     "outputs": [],
     "prompt_number": 11
    },
    {
     "cell_type": "code",
     "collapsed": false,
     "input": [
      "# LASSO Regression\n",
      "lasso = make_pipeline(RobustScaler(), Lasso(alpha =0.0005, random_state=5))"
     ],
     "language": "python",
     "metadata": {},
     "outputs": [],
     "prompt_number": 12
    },
    {
     "cell_type": "code",
     "collapsed": false,
     "input": [
      "# Gradient Boosting Regression\n",
      "GBoost = GradientBoostingRegressor(n_estimators=3000, learning_rate=0.01,\n",
      "                                   max_depth=4, max_features='sqrt',\n",
      "                                   min_samples_leaf=15, min_samples_split=10, \n",
      "                                   loss='huber', random_state =5)"
     ],
     "language": "python",
     "metadata": {},
     "outputs": [],
     "prompt_number": 13
    },
    {
     "cell_type": "code",
     "collapsed": false,
     "input": [
      "# Elastic Net Regression\n",
      "ENet = make_pipeline(RobustScaler(), ElasticNet(alpha=0.0005, l1_ratio=.9, random_state=5))"
     ],
     "language": "python",
     "metadata": {},
     "outputs": [],
     "prompt_number": 14
    },
    {
     "cell_type": "code",
     "collapsed": false,
     "input": [
      "averaged_models = AveragingModels(models = (ENet, GBoost, lasso))\n",
      "averaged_models.fit(train_X, train_y)\n",
      "\n",
      "# make predictions\n",
      "predictions_av = averaged_models.predict(val_X)\n",
      "\n",
      "print(\"Mean Absolute Error : \" + str(mean_absolute_error(predictions_av, val_y)))"
     ],
     "language": "python",
     "metadata": {},
     "outputs": [
      {
       "output_type": "stream",
       "stream": "stdout",
       "text": [
        "Mean Absolute Error : 0.0808275235284\n"
       ]
      }
     ],
     "prompt_number": 15
    },
    {
     "cell_type": "code",
     "collapsed": false,
     "input": [
      "# Initializing models\n",
      "svr_rbf = SVR()\n",
      "sc = StandardScaler()\n",
      "stack = StackingRegressor(regressors=[GBoost, ENet], \n",
      "                           meta_regressor=lasso)\n",
      "\n",
      "# Training the stacking classifier\n",
      "stack.fit(train_X, train_y)\n",
      "predictions_stack = stack.predict(val_X)\n",
      "\n",
      "print(\"Mean Absolute Error : \" + str(mean_absolute_error(predictions_stack, val_y)))"
     ],
     "language": "python",
     "metadata": {},
     "outputs": [
      {
       "output_type": "stream",
       "stream": "stdout",
       "text": [
        "Mean Absolute Error : 0.0783797185461\n"
       ]
      }
     ],
     "prompt_number": 16
    },
    {
     "cell_type": "markdown",
     "metadata": {},
     "source": [
      "#### 6. Submission"
     ]
    },
    {
     "cell_type": "code",
     "collapsed": false,
     "input": [
      "# Treat the test data in the same way as training data. In this case, pull same columns.\n",
      "test_X = test_new\n",
      "\n",
      "# Use the model to make predictions\n",
      "predicted_prices = np.exp(stack.predict(test_X))"
     ],
     "language": "python",
     "metadata": {},
     "outputs": [],
     "prompt_number": 17
    },
    {
     "cell_type": "code",
     "collapsed": false,
     "input": [
      "my_submission = pd.DataFrame({'Id': test.Id, 'SalePrice': predicted_prices})\n",
      "\n",
      "my_submission.to_csv('submission.csv', index=False)"
     ],
     "language": "python",
     "metadata": {},
     "outputs": [],
     "prompt_number": 18
    },
    {
     "cell_type": "code",
     "collapsed": false,
     "input": [],
     "language": "python",
     "metadata": {},
     "outputs": [],
     "prompt_number": 18
    }
   ],
   "metadata": {}
  }
 ]
}