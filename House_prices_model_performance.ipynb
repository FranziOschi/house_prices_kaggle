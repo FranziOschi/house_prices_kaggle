{
 "metadata": {
  "kernelspec": {
   "display_name": "Python 2",
   "language": "python",
   "name": "python2"
  },
  "language_info": {
   "codemirror_mode": {
    "name": "ipython",
    "version": 2
   },
   "file_extension": ".py",
   "mimetype": "text/x-python",
   "name": "python",
   "nbconvert_exporter": "python",
   "pygments_lexer": "ipython2",
   "version": "2.7.14"
  },
  "name": "",
  "signature": "sha256:5071e7cc31571c5427c2f0ac3784c14724482c03a26b50f81800857f2978dd3a"
 },
 "nbformat": 3,
 "nbformat_minor": 0,
 "worksheets": [
  {
   "cells": [
    {
     "cell_type": "code",
     "collapsed": false,
     "input": [
      "import pandas as pd\n",
      "\n",
      "from mlxtend.regressor import StackingRegressor, StackingCVRegressor\n",
      "from sklearn.tree import DecisionTreeRegressor\n",
      "from sklearn.metrics import mean_absolute_error, mean_squared_error\n",
      "from sklearn.linear_model import ElasticNet, Lasso,  MultiTaskLasso, Ridge, LassoLarsIC, LogisticRegression, LinearRegression, SGDRegressor\n",
      "from sklearn.model_selection import train_test_split, KFold, cross_val_score\n",
      "from sklearn.ensemble import RandomForestRegressor, GradientBoostingRegressor\n",
      "from sklearn.preprocessing import Imputer, StandardScaler\n",
      "from sklearn.kernel_ridge import KernelRidge\n",
      "from sklearn.pipeline import make_pipeline\n",
      "from sklearn.preprocessing import RobustScaler\n",
      "from sklearn.svm import SVR\n",
      "#import lightgbm as lgb\n",
      "\n",
      "from xgboost import XGBRegressor\n",
      "\n",
      "%matplotlib inline\n",
      "import matplotlib.pyplot as plt\n",
      "\n",
      "import numpy as np\n",
      "\n",
      "from DataFrameImputer import DataFrameImputer\n",
      "from AveragingModels import AveragingModels"
     ],
     "language": "python",
     "metadata": {},
     "outputs": [],
     "prompt_number": 1
    },
    {
     "cell_type": "heading",
     "level": 4,
     "metadata": {},
     "source": [
      "1. Load data"
     ]
    },
    {
     "cell_type": "code",
     "collapsed": false,
     "input": [
      "# Read the data\n",
      "train = pd.read_csv('train.csv')\n",
      "test = pd.read_csv('test.csv')"
     ],
     "language": "python",
     "metadata": {},
     "outputs": [],
     "prompt_number": 2
    },
    {
     "cell_type": "code",
     "collapsed": false,
     "input": [
      "#Save the 'Id' column\n",
      "train_ID = train['Id']\n",
      "test_ID = test['Id']"
     ],
     "language": "python",
     "metadata": {},
     "outputs": [],
     "prompt_number": 3
    },
    {
     "cell_type": "heading",
     "level": 4,
     "metadata": {},
     "source": [
      "2. Log-transformation of target variable"
     ]
    },
    {
     "cell_type": "code",
     "collapsed": false,
     "input": [
      "plt.hist(train['SalePrice'].values)"
     ],
     "language": "python",
     "metadata": {},
     "outputs": [
      {
       "metadata": {},
       "output_type": "pyout",
       "prompt_number": 4,
       "text": [
        "(array([ 148.,  723.,  373.,  135.,   51.,   19.,    4.,    3.,    2.,    2.]),\n",
        " array([  34900.,  106910.,  178920.,  250930.,  322940.,  394950.,\n",
        "         466960.,  538970.,  610980.,  682990.,  755000.]),\n",
        " <a list of 10 Patch objects>)"
       ]
      },
      {
       "metadata": {},
       "output_type": "display_data",
       "png": "[encoded data removed]",
       "text": [
        "<matplotlib.figure.Figure at 0x7fe30c13a6d0>"
       ]
      }
     ],
     "prompt_number": 4
    },
    {
     "cell_type": "code",
     "collapsed": false,
     "input": [
      "train[\"SalePrice\"] = np.log1p(train[\"SalePrice\"])\n",
      "target = train[\"SalePrice\"]"
     ],
     "language": "python",
     "metadata": {},
     "outputs": [],
     "prompt_number": 5
    },
    {
     "cell_type": "code",
     "collapsed": false,
     "input": [
      "plt.hist(train['SalePrice'].values)"
     ],
     "language": "python",
     "metadata": {},
     "outputs": [
      {
       "metadata": {},
       "output_type": "pyout",
       "prompt_number": 6,
       "text": [
        "(array([   5.,   12.,   54.,  184.,  470.,  400.,  220.,   90.,   19.,    6.]),\n",
        " array([ 10.46027076,  10.76769112,  11.07511148,  11.38253184,\n",
        "         11.6899522 ,  11.99737256,  12.30479292,  12.61221328,\n",
        "         12.91963363,  13.22705399,  13.53447435]),\n",
        " <a list of 10 Patch objects>)"
       ]
      },
      {
       "metadata": {},
       "output_type": "display_data",
       "png": "[encoded data removed]",
       "text": [
        "<matplotlib.figure.Figure at 0x7fe30c13a490>"
       ]
      }
     ],
     "prompt_number": 6
    },
    {
     "cell_type": "heading",
     "level": 4,
     "metadata": {},
     "source": [
      "3. Feature Engeneering"
     ]
    },
    {
     "cell_type": "code",
     "collapsed": false,
     "input": [
      "ntrain = train.shape[0]\n",
      "ntest = test.shape[0]"
     ],
     "language": "python",
     "metadata": {},
     "outputs": [],
     "prompt_number": 7
    },
    {
     "cell_type": "code",
     "collapsed": false,
     "input": [
      "# drop target data in train data\n",
      "candidate_train_predictors = train.drop(['Id', 'SalePrice'], axis=1)\n",
      "candidate_test_predictors = test.drop(['Id'], axis=1)"
     ],
     "language": "python",
     "metadata": {},
     "outputs": [],
     "prompt_number": 8
    },
    {
     "cell_type": "code",
     "collapsed": false,
     "input": [
      "all_data = pd.concat((candidate_train_predictors, candidate_test_predictors)).reset_index(drop=True)"
     ],
     "language": "python",
     "metadata": {},
     "outputs": [],
     "prompt_number": 9
    },
    {
     "cell_type": "code",
     "collapsed": false,
     "input": [
      "all_cols = list(all_data.columns)"
     ],
     "language": "python",
     "metadata": {},
     "outputs": [],
     "prompt_number": 10
    },
    {
     "cell_type": "code",
     "collapsed": false,
     "input": [
      "cat_ix = np.where([all_data[list_col].dtype == 'object' for list_col in list(all_data.columns)])[0]\n",
      "num_ix = np.where([all_data[list_col].dtype != 'object' for list_col in list(all_data.columns)])[0]"
     ],
     "language": "python",
     "metadata": {},
     "outputs": [],
     "prompt_number": 11
    },
    {
     "cell_type": "code",
     "collapsed": false,
     "input": [
      "cat_nans = np.array([len(np.where(pd.isnull(all_data[list(all_data.columns)[c_ix]]))[0]) for c_ix in cat_ix])"
     ],
     "language": "python",
     "metadata": {},
     "outputs": [],
     "prompt_number": 12
    },
    {
     "cell_type": "code",
     "collapsed": false,
     "input": [
      "num_nans = np.array([len(np.where(np.isnan(all_data[list(all_data.columns)[n_ix]]))[0]) for n_ix in num_ix])"
     ],
     "language": "python",
     "metadata": {},
     "outputs": [],
     "prompt_number": 13
    },
    {
     "cell_type": "code",
     "collapsed": false,
     "input": [
      "#np.where(num_nans > 200)"
     ],
     "language": "python",
     "metadata": {},
     "outputs": [],
     "prompt_number": 14
    },
    {
     "cell_type": "code",
     "collapsed": false,
     "input": [
      "cols_to_drop = all_data.columns[[cat_ix[np.where(cat_nans > 500)]][0]]"
     ],
     "language": "python",
     "metadata": {},
     "outputs": [],
     "prompt_number": 15
    },
    {
     "cell_type": "code",
     "collapsed": false,
     "input": [
      "# drop target data in train data\n",
      "#all_data.drop(cols_to_drop, axis=1, inplace=True)"
     ],
     "language": "python",
     "metadata": {},
     "outputs": [],
     "prompt_number": 16
    },
    {
     "cell_type": "heading",
     "level": 4,
     "metadata": {},
     "source": [
      "4. NaN handling - Imputing"
     ]
    },
    {
     "cell_type": "code",
     "collapsed": false,
     "input": [
      "# Imputing\n",
      "all_data_imputed = DataFrameImputer().fit_transform(all_data)"
     ],
     "language": "python",
     "metadata": {},
     "outputs": [],
     "prompt_number": 17
    },
    {
     "cell_type": "heading",
     "level": 4,
     "metadata": {},
     "source": [
      "5. One-hot encoding"
     ]
    },
    {
     "cell_type": "code",
     "collapsed": false,
     "input": [
      "one_hot_encoded_all_data = pd.get_dummies(all_data_imputed)\n",
      "#one_hot_encoded_test_predictors = pd.get_dummies(test_imputed)"
     ],
     "language": "python",
     "metadata": {},
     "outputs": [],
     "prompt_number": 18
    },
    {
     "cell_type": "code",
     "collapsed": false,
     "input": [
      "train_new = one_hot_encoded_all_data[:ntrain]\n",
      "test_new = one_hot_encoded_all_data[ntrain:]"
     ],
     "language": "python",
     "metadata": {},
     "outputs": [],
     "prompt_number": 19
    },
    {
     "cell_type": "heading",
     "level": 4,
     "metadata": {},
     "source": [
      "6. Visualisation of the data"
     ]
    },
    {
     "cell_type": "code",
     "collapsed": false,
     "input": [
      "#for i, col in enumerate(list(train_new.columns)):\n",
      "#    plt.scatter(train['SalePrice'], train_new[col])\n",
      "#    plt.title(col)\n",
      "#    plt.show()"
     ],
     "language": "python",
     "metadata": {},
     "outputs": [],
     "prompt_number": 20
    },
    {
     "cell_type": "code",
     "collapsed": false,
     "input": [
      "#cols_to_drop = ['PoolQC_Ex', 'PoolQC_Fa', 'PoolQC_Gd', 'RoofMatl_ClyTile', 'RoofMatl_Membran', 'RoofMatl_Metal', 'RoofMatl_Roll', 'RoofStyle_Shed', 'SaleCondition_AdjLand', 'SaleType_Con', 'SaleType_Oth', 'Utilities_AllPub', 'Utilities_NoSeWe']"
     ],
     "language": "python",
     "metadata": {},
     "outputs": [],
     "prompt_number": 21
    },
    {
     "cell_type": "code",
     "collapsed": false,
     "input": [
      "#train_new.drop(['PoolQC'])"
     ],
     "language": "python",
     "metadata": {},
     "outputs": [],
     "prompt_number": 22
    },
    {
     "cell_type": "heading",
     "level": 4,
     "metadata": {},
     "source": [
      "7. Split into training and validation data"
     ]
    },
    {
     "cell_type": "code",
     "collapsed": false,
     "input": [
      "# pull data into target (y) and predictors (X)\n",
      "y = train.SalePrice\n",
      "\n",
      "# Create training predictors data\n",
      "X = train_new"
     ],
     "language": "python",
     "metadata": {},
     "outputs": [],
     "prompt_number": 23
    },
    {
     "cell_type": "code",
     "collapsed": false,
     "input": [
      "# split into train and validation data\n",
      "train_X, val_X, train_y, val_y = train_test_split(X, y,random_state = 0)"
     ],
     "language": "python",
     "metadata": {},
     "outputs": [],
     "prompt_number": 24
    },
    {
     "cell_type": "heading",
     "level": 4,
     "metadata": {},
     "source": [
      "8. Model"
     ]
    },
    {
     "cell_type": "code",
     "collapsed": false,
     "input": [
      "def rmsle(y, y_pred):\n",
      "    return np.sqrt(mean_squared_error(y, y_pred))"
     ],
     "language": "python",
     "metadata": {},
     "outputs": [],
     "prompt_number": 25
    },
    {
     "cell_type": "code",
     "collapsed": false,
     "input": [
      "lr = LinearRegression()\n",
      "rf = RandomForestRegressor()"
     ],
     "language": "python",
     "metadata": {},
     "outputs": [],
     "prompt_number": 26
    },
    {
     "cell_type": "code",
     "collapsed": false,
     "input": [
      "r = Ridge(alpha = 0.5)\n",
      "\n",
      "r.fit(train_X, train_y)\n",
      "\n",
      "# make predictions\n",
      "predictions_r = r.predict(val_X)\n",
      "\n",
      "print(\"Mean Absolute Error : \" + str(mean_absolute_error(predictions_r, val_y)))"
     ],
     "language": "python",
     "metadata": {},
     "outputs": [
      {
       "output_type": "stream",
       "stream": "stdout",
       "text": [
        "Mean Absolute Error : 0.095841409922\n"
       ]
      }
     ],
     "prompt_number": 27
    },
    {
     "cell_type": "code",
     "collapsed": false,
     "input": [
      "plt.plot((predictions_r - val_y).values, 'o')"
     ],
     "language": "python",
     "metadata": {},
     "outputs": [
      {
       "metadata": {},
       "output_type": "pyout",
       "prompt_number": 28,
       "text": [
        "[<matplotlib.lines.Line2D at 0x7fe2db896ad0>]"
       ]
      },
      {
       "metadata": {},
       "output_type": "display_data",
       "png": "[encoded data removed]",
       "text": [
        "<matplotlib.figure.Figure at 0x7fe2dfc21110>"
       ]
      }
     ],
     "prompt_number": 28
    },
    {
     "cell_type": "code",
     "collapsed": false,
     "input": [
      "# LASSO Regression\n",
      "lasso = make_pipeline(RobustScaler(), Lasso(alpha =0.0005, random_state=5))"
     ],
     "language": "python",
     "metadata": {},
     "outputs": [],
     "prompt_number": 29
    },
    {
     "cell_type": "code",
     "collapsed": false,
     "input": [
      "lasso.fit(train_X, train_y)\n",
      "\n",
      "# make predictions\n",
      "predictions_la = lasso.predict(val_X)\n",
      "\n",
      "print(\"Mean Absolute Error : \" + str(mean_absolute_error(predictions_la, val_y)))"
     ],
     "language": "python",
     "metadata": {},
     "outputs": [
      {
       "output_type": "stream",
       "stream": "stdout",
       "text": [
        "Mean Absolute Error : 0.087865280422\n"
       ]
      }
     ],
     "prompt_number": 30
    },
    {
     "cell_type": "code",
     "collapsed": false,
     "input": [
      "plt.plot((predictions_la - val_y).values, 'o')"
     ],
     "language": "python",
     "metadata": {},
     "outputs": [
      {
       "metadata": {},
       "output_type": "pyout",
       "prompt_number": 31,
       "text": [
        "[<matplotlib.lines.Line2D at 0x7fe2dfc83a50>]"
       ]
      },
      {
       "metadata": {},
       "output_type": "display_data",
       "png": "[encoded data removed]",
       "text": [
        "<matplotlib.figure.Figure at 0x7fe2db874110>"
       ]
      }
     ],
     "prompt_number": 31
    },
    {
     "cell_type": "code",
     "collapsed": false,
     "input": [
      "# Gradient Boosting Regression\n",
      "GBoost = GradientBoostingRegressor(n_estimators=3000, learning_rate=0.01,\n",
      "                                   max_depth=4, max_features='sqrt',\n",
      "                                   min_samples_leaf=20, min_samples_split=10, \n",
      "                                   loss='huber', random_state =5)"
     ],
     "language": "python",
     "metadata": {},
     "outputs": [],
     "prompt_number": 32
    },
    {
     "cell_type": "code",
     "collapsed": false,
     "input": [
      "GBoost.fit(train_X, train_y)\n",
      "\n",
      "# make predictions\n",
      "predictions_gb = GBoost.predict(val_X)\n",
      "\n",
      "print(\"Mean Absolute Error : \" + str(mean_absolute_error(predictions_gb, val_y)))"
     ],
     "language": "python",
     "metadata": {},
     "outputs": [
      {
       "output_type": "stream",
       "stream": "stdout",
       "text": [
        "Mean Absolute Error : 0.078531965467\n"
       ]
      }
     ],
     "prompt_number": 33
    },
    {
     "cell_type": "code",
     "collapsed": false,
     "input": [
      "plt.plot((predictions_gb - val_y).values, 'o')\n",
      "plt.ylim(-1,3)"
     ],
     "language": "python",
     "metadata": {},
     "outputs": [
      {
       "metadata": {},
       "output_type": "pyout",
       "prompt_number": 34,
       "text": [
        "(-1, 3)"
       ]
      },
      {
       "metadata": {},
       "output_type": "display_data",
       "png": "[encoded data removed]",
       "text": [
        "<matplotlib.figure.Figure at 0x7fe2db7aa810>"
       ]
      }
     ],
     "prompt_number": 34
    },
    {
     "cell_type": "code",
     "collapsed": false,
     "input": [
      "# Elastic Net Regression\n",
      "ENet = make_pipeline(RobustScaler(), ElasticNet(alpha=0.0005, l1_ratio=.9, random_state=5))"
     ],
     "language": "python",
     "metadata": {},
     "outputs": [],
     "prompt_number": 35
    },
    {
     "cell_type": "code",
     "collapsed": false,
     "input": [
      "ENet.fit(train_X, train_y)\n",
      "\n",
      "# make predictions\n",
      "predictions_en = ENet.predict(val_X)\n",
      "\n",
      "print(\"Mean Absolute Error : \" + str(mean_absolute_error(predictions_en, val_y)))"
     ],
     "language": "python",
     "metadata": {},
     "outputs": [
      {
       "output_type": "stream",
       "stream": "stdout",
       "text": [
        "Mean Absolute Error : 0.0878044474928\n"
       ]
      }
     ],
     "prompt_number": 36
    },
    {
     "cell_type": "code",
     "collapsed": false,
     "input": [
      "plt.plot((predictions_en - val_y).values, 'o')"
     ],
     "language": "python",
     "metadata": {},
     "outputs": [
      {
       "metadata": {},
       "output_type": "pyout",
       "prompt_number": 37,
       "text": [
        "[<matplotlib.lines.Line2D at 0x7fe2dfe05ed0>]"
       ]
      },
      {
       "metadata": {},
       "output_type": "display_data",
       "png": "[encoded data removed]",
       "text": [
        "<matplotlib.figure.Figure at 0x7fe2db7b36d0>"
       ]
      }
     ],
     "prompt_number": 37
    }
   ],
   "metadata": {}
  }
 ]
}